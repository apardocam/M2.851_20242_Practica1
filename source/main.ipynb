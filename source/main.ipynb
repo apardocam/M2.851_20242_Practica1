{
 "cells": [
  {
   "cell_type": "markdown",
   "id": "ccc29abf-c077-47db-94da-5cb435325c13",
   "metadata": {},
   "source": [
    "# JustWatch Scraper España"
   ]
  },
  {
   "cell_type": "markdown",
   "id": "cb86b938-9f9d-41ec-b770-1e09f2c2db76",
   "metadata": {},
   "source": [
    "Se ha creado la función **jw_movies** la cual realiza un raspado en el portal web JustWatch.com obteniendo la información de todas las películas de un año determinado presentes mediante suscripción en los catálogos de las principales plataformas de streaming de España. El código de todas las funciones utilizadas se encuentra en el archivo utils.py"
   ]
  },
  {
   "cell_type": "code",
   "execution_count": 1,
   "id": "71e2020c-7df0-43ca-bace-9839fce9c134",
   "metadata": {},
   "outputs": [],
   "source": [
    "from utils import jw_movies"
   ]
  },
  {
   "cell_type": "markdown",
   "id": "bc0dcb3e-d310-41f8-b5c9-d650b1a5b5c3",
   "metadata": {},
   "source": [
    "La función **jw_movies** cuenta con dos parámetros:\n",
    "- *year* (Obligatorio): Indica el año de lanzamiento de las películas a raspar.\n",
    "- *Extractor* (Default=True): Si se indica como \"False\", la función simplemente devuelve una lista con la parte única de las urls de las películas raspadas.\n",
    "\n",
    "En varios puntos de la ejecución, la función muestra por pantalla el progreso, ya que la ejecución completa lleva tiempo, a fin de no sobrecargar el servidor web."
   ]
  },
  {
   "cell_type": "code",
   "execution_count": 6,
   "id": "08e3b7b7-ad0b-4a35-8c97-a45a08b8dc31",
   "metadata": {},
   "outputs": [
    {
     "name": "stdout",
     "output_type": "stream",
     "text": [
      "Starting movie list (1915) scraping...\n",
      "Movies found: 3\n",
      "['/es/pelicula/carmen-1915', '/es/pelicula/the-cheat', '/es/pelicula/el-nacimiento-de-una-nacion']\n"
     ]
    }
   ],
   "source": [
    "movie_list_1915 = jw_movies(1915, Extractor=False)\n",
    "print(movie_list_1915)"
   ]
  },
  {
   "cell_type": "markdown",
   "id": "c151896b-3a0e-48ce-a085-238684a7f234",
   "metadata": {},
   "source": [
    "Cuando el parámetro *Extractor*=True, la función llama a la función **jw_extractor**, la cual extrae la siguiente información (si existe) de cada película, almacenándola en un diccionario:\n",
    "- Título de la pélicula\n",
    "- Año de lanzamiento\n",
    "- Plataformas en las que se encuentra bajo suscripción\n",
    "- Valoraciones de usuarios en JustWatch (puntuación y nº de valoraciones), IMDb (puntuación y nº de valoraciones) y Rotten Tomatoes (puntuación)\n",
    "- Géneros en los que JustWatch cataloga la película\n",
    "- Duración de la película\n",
    "- Clasificación por edad\n",
    "- Países de producción\n",
    "- Imagen del póster de la película (Pixeles RGB almacenados como JSON)\n",
    "\n",
    "Cabe destacar que el output de dicha función devuelve un Data Frame sin limpiar, siendo necesario realizar esa tarea de forma posterior."
   ]
  },
  {
   "cell_type": "code",
   "execution_count": 8,
   "id": "bfb9a767-8909-4f11-9a9b-7c8e19b8cf3b",
   "metadata": {},
   "outputs": [],
   "source": [
    "from utils import jw_extractor\n",
    "import pandas as pd"
   ]
  },
  {
   "cell_type": "code",
   "execution_count": 11,
   "id": "ab49a511-28a3-4f85-a791-f90500f2d417",
   "metadata": {},
   "outputs": [
    {
     "name": "stderr",
     "output_type": "stream",
     "text": [
      "Extracting movie info:: 100%|██████████| 3/3 [00:02<00:00,  1.13it/s]\n"
     ]
    },
    {
     "data": {
      "text/html": [
       "<div>\n",
       "<style scoped>\n",
       "    .dataframe tbody tr th:only-of-type {\n",
       "        vertical-align: middle;\n",
       "    }\n",
       "\n",
       "    .dataframe tbody tr th {\n",
       "        vertical-align: top;\n",
       "    }\n",
       "\n",
       "    .dataframe thead th {\n",
       "        text-align: right;\n",
       "    }\n",
       "</style>\n",
       "<table border=\"1\" class=\"dataframe\">\n",
       "  <thead>\n",
       "    <tr style=\"text-align: right;\">\n",
       "      <th></th>\n",
       "      <th>title</th>\n",
       "      <th>year</th>\n",
       "      <th>platforms</th>\n",
       "      <th>jw_score</th>\n",
       "      <th>jw_ratings</th>\n",
       "      <th>imdb_score</th>\n",
       "      <th>imdb_ratings</th>\n",
       "      <th>rt_score</th>\n",
       "      <th>genres</th>\n",
       "      <th>duration</th>\n",
       "      <th>ageRating</th>\n",
       "      <th>countries</th>\n",
       "      <th>poster_image</th>\n",
       "    </tr>\n",
       "  </thead>\n",
       "  <tbody>\n",
       "    <tr>\n",
       "      <th>0</th>\n",
       "      <td>Carmen</td>\n",
       "      <td>(1915)</td>\n",
       "      <td>[Filmin]</td>\n",
       "      <td>NA</td>\n",
       "      <td>NA</td>\n",
       "      <td>6.3</td>\n",
       "      <td>(1k)</td>\n",
       "      <td>NA</td>\n",
       "      <td>Drama</td>\n",
       "      <td>59min</td>\n",
       "      <td>NA</td>\n",
       "      <td>Estados Unidos</td>\n",
       "      <td>[[[245, 222, 188], [245, 222, 188], [244, 221,...</td>\n",
       "    </tr>\n",
       "    <tr>\n",
       "      <th>1</th>\n",
       "      <td>La marca del fuego</td>\n",
       "      <td>(1915)</td>\n",
       "      <td>[Filmin]</td>\n",
       "      <td>NA</td>\n",
       "      <td>NA</td>\n",
       "      <td>6.5</td>\n",
       "      <td>(2k)</td>\n",
       "      <td>90%</td>\n",
       "      <td>Drama, Romance</td>\n",
       "      <td>59min</td>\n",
       "      <td>NA</td>\n",
       "      <td>Estados Unidos</td>\n",
       "      <td>[[[137, 40, 147], [140, 34, 144], [143, 35, 11...</td>\n",
       "    </tr>\n",
       "    <tr>\n",
       "      <th>2</th>\n",
       "      <td>El nacimiento de una nación</td>\n",
       "      <td>(1915)</td>\n",
       "      <td>[Filmin]</td>\n",
       "      <td>33%</td>\n",
       "      <td>(255)</td>\n",
       "      <td>6.1</td>\n",
       "      <td>(27k)</td>\n",
       "      <td>91%</td>\n",
       "      <td>Guerra, Drama, Historia</td>\n",
       "      <td>3h 15min</td>\n",
       "      <td>NA</td>\n",
       "      <td>Estados Unidos</td>\n",
       "      <td>[[[65, 93, 107], [66, 94, 108], [69, 97, 111],...</td>\n",
       "    </tr>\n",
       "  </tbody>\n",
       "</table>\n",
       "</div>"
      ],
      "text/plain": [
       "                         title    year platforms jw_score jw_ratings  \\\n",
       "0                       Carmen  (1915)  [Filmin]       NA         NA   \n",
       "1           La marca del fuego  (1915)  [Filmin]       NA         NA   \n",
       "2  El nacimiento de una nación  (1915)  [Filmin]      33%      (255)   \n",
       "\n",
       "  imdb_score imdb_ratings rt_score                   genres  duration  \\\n",
       "0        6.3         (1k)       NA                    Drama     59min   \n",
       "1        6.5         (2k)      90%           Drama, Romance     59min   \n",
       "2        6.1        (27k)      91%  Guerra, Drama, Historia  3h 15min   \n",
       "\n",
       "  ageRating       countries                                       poster_image  \n",
       "0        NA  Estados Unidos  [[[245, 222, 188], [245, 222, 188], [244, 221,...  \n",
       "1        NA  Estados Unidos  [[[137, 40, 147], [140, 34, 144], [143, 35, 11...  \n",
       "2        NA  Estados Unidos  [[[65, 93, 107], [66, 94, 108], [69, 97, 111],...  "
      ]
     },
     "execution_count": 11,
     "metadata": {},
     "output_type": "execute_result"
    }
   ],
   "source": [
    "movie_info_2015 = jw_extractor(movie_list_1915)\n",
    "movie_info_2015 = pd.DataFrame(movie_info_2015)\n",
    "movie_info_2015.head()"
   ]
  },
  {
   "cell_type": "markdown",
   "id": "f3b9d30e-0582-469c-b289-6469024c6139",
   "metadata": {},
   "source": [
    "Si se ejecuta la función **jw_movies** con los atributos por defecto (*Extractor*=True), esta devuelve la información de **jw_extractor** almacenada como un Data Frame Pandas, a la vez que genera un archivo .csv con la misma información."
   ]
  },
  {
   "cell_type": "code",
   "execution_count": 12,
   "id": "bf57c377-b6fd-4cbd-bb9c-1443a2c3180c",
   "metadata": {},
   "outputs": [
    {
     "name": "stdout",
     "output_type": "stream",
     "text": [
      "Starting movie list (1920) scraping...\n",
      "Movies found: 7\n"
     ]
    },
    {
     "name": "stderr",
     "output_type": "stream",
     "text": [
      "Extracting movie info:: 100%|██████████| 7/7 [00:06<00:00,  1.03it/s]"
     ]
    },
    {
     "name": "stdout",
     "output_type": "stream",
     "text": [
      "Información extraída en \"1920.csv\"\n"
     ]
    },
    {
     "name": "stderr",
     "output_type": "stream",
     "text": [
      "\n"
     ]
    },
    {
     "data": {
      "text/html": [
       "<div>\n",
       "<style scoped>\n",
       "    .dataframe tbody tr th:only-of-type {\n",
       "        vertical-align: middle;\n",
       "    }\n",
       "\n",
       "    .dataframe tbody tr th {\n",
       "        vertical-align: top;\n",
       "    }\n",
       "\n",
       "    .dataframe thead th {\n",
       "        text-align: right;\n",
       "    }\n",
       "</style>\n",
       "<table border=\"1\" class=\"dataframe\">\n",
       "  <thead>\n",
       "    <tr style=\"text-align: right;\">\n",
       "      <th></th>\n",
       "      <th>title</th>\n",
       "      <th>year</th>\n",
       "      <th>platforms</th>\n",
       "      <th>jw_score</th>\n",
       "      <th>jw_ratings</th>\n",
       "      <th>imdb_score</th>\n",
       "      <th>imdb_ratings</th>\n",
       "      <th>rt_score</th>\n",
       "      <th>genres</th>\n",
       "      <th>duration</th>\n",
       "      <th>ageRating</th>\n",
       "      <th>countries</th>\n",
       "      <th>poster_image</th>\n",
       "    </tr>\n",
       "  </thead>\n",
       "  <tbody>\n",
       "    <tr>\n",
       "      <th>0</th>\n",
       "      <td>El Golem</td>\n",
       "      <td>(1920)</td>\n",
       "      <td>[Filmin]</td>\n",
       "      <td>57%</td>\n",
       "      <td>(81)</td>\n",
       "      <td>7.2</td>\n",
       "      <td>(9k)</td>\n",
       "      <td>NA</td>\n",
       "      <td>Fantasía, Terror, Europeas</td>\n",
       "      <td>1h 27min</td>\n",
       "      <td>NA</td>\n",
       "      <td>Alemania</td>\n",
       "      <td>[[[30, 30, 42], [30, 30, 42], [30, 30, 42], [3...</td>\n",
       "    </tr>\n",
       "    <tr>\n",
       "      <th>1</th>\n",
       "      <td>El gabinete del doctor Caligari</td>\n",
       "      <td>(1920)</td>\n",
       "      <td>[Filmin]</td>\n",
       "      <td>88%</td>\n",
       "      <td>(1.4k)</td>\n",
       "      <td>8.0</td>\n",
       "      <td>(73k)</td>\n",
       "      <td>96%</td>\n",
       "      <td>Drama, Terror, Misterio &amp; Suspense, Crimen, Eu...</td>\n",
       "      <td>1h 7min</td>\n",
       "      <td>7</td>\n",
       "      <td>Alemania</td>\n",
       "      <td>[[[187, 157, 33], [185, 156, 30], [188, 157, 3...</td>\n",
       "    </tr>\n",
       "    <tr>\n",
       "      <th>2</th>\n",
       "      <td>El hombre y la bestia</td>\n",
       "      <td>(1920)</td>\n",
       "      <td>[Filmin, Cultpix]</td>\n",
       "      <td>48%</td>\n",
       "      <td>(105)</td>\n",
       "      <td>6.9</td>\n",
       "      <td>(6k)</td>\n",
       "      <td>92%</td>\n",
       "      <td>Ciencia ficción, Drama, Terror, Comedia</td>\n",
       "      <td>1h 19min</td>\n",
       "      <td>NA</td>\n",
       "      <td>Estados Unidos</td>\n",
       "      <td>[[[238, 227, 41], [238, 227, 41], [238, 227, 4...</td>\n",
       "    </tr>\n",
       "    <tr>\n",
       "      <th>3</th>\n",
       "      <td>Erotikon</td>\n",
       "      <td>(1920)</td>\n",
       "      <td>[Netflix basic with Ads, Netflix]</td>\n",
       "      <td>5%</td>\n",
       "      <td>(71)</td>\n",
       "      <td>6.4</td>\n",
       "      <td>(1k)</td>\n",
       "      <td>NA</td>\n",
       "      <td>Romance, Drama, Comedia</td>\n",
       "      <td>1h 37min</td>\n",
       "      <td>13</td>\n",
       "      <td>Suecia</td>\n",
       "      <td>[[[184, 183, 199], [193, 195, 208], [187, 191,...</td>\n",
       "    </tr>\n",
       "    <tr>\n",
       "      <th>4</th>\n",
       "      <td>La mujer del párroco</td>\n",
       "      <td>(1920)</td>\n",
       "      <td>[Netflix basic with Ads, Netflix]</td>\n",
       "      <td>8%</td>\n",
       "      <td>(88)</td>\n",
       "      <td>7.1</td>\n",
       "      <td>(1k)</td>\n",
       "      <td>NA</td>\n",
       "      <td>Comedia, Drama, Terror</td>\n",
       "      <td>1h 34min</td>\n",
       "      <td>NA</td>\n",
       "      <td>Suecia</td>\n",
       "      <td>[[[21, 43, 30], [9, 31, 18], [22, 44, 31], [18...</td>\n",
       "    </tr>\n",
       "  </tbody>\n",
       "</table>\n",
       "</div>"
      ],
      "text/plain": [
       "                             title    year                          platforms  \\\n",
       "0                         El Golem  (1920)                           [Filmin]   \n",
       "1  El gabinete del doctor Caligari  (1920)                           [Filmin]   \n",
       "2            El hombre y la bestia  (1920)                  [Filmin, Cultpix]   \n",
       "3                         Erotikon  (1920)  [Netflix basic with Ads, Netflix]   \n",
       "4             La mujer del párroco  (1920)  [Netflix basic with Ads, Netflix]   \n",
       "\n",
       "  jw_score jw_ratings imdb_score imdb_ratings rt_score  \\\n",
       "0      57%       (81)        7.2         (9k)       NA   \n",
       "1      88%     (1.4k)        8.0        (73k)      96%   \n",
       "2      48%      (105)        6.9         (6k)      92%   \n",
       "3       5%       (71)        6.4         (1k)       NA   \n",
       "4       8%       (88)        7.1         (1k)       NA   \n",
       "\n",
       "                                              genres  duration ageRating  \\\n",
       "0                         Fantasía, Terror, Europeas  1h 27min        NA   \n",
       "1  Drama, Terror, Misterio & Suspense, Crimen, Eu...   1h 7min         7   \n",
       "2            Ciencia ficción, Drama, Terror, Comedia  1h 19min        NA   \n",
       "3                            Romance, Drama, Comedia  1h 37min        13   \n",
       "4                             Comedia, Drama, Terror  1h 34min        NA   \n",
       "\n",
       "        countries                                       poster_image  \n",
       "0        Alemania  [[[30, 30, 42], [30, 30, 42], [30, 30, 42], [3...  \n",
       "1        Alemania  [[[187, 157, 33], [185, 156, 30], [188, 157, 3...  \n",
       "2  Estados Unidos  [[[238, 227, 41], [238, 227, 41], [238, 227, 4...  \n",
       "3          Suecia  [[[184, 183, 199], [193, 195, 208], [187, 191,...  \n",
       "4          Suecia  [[[21, 43, 30], [9, 31, 18], [22, 44, 31], [18...  "
      ]
     },
     "execution_count": 12,
     "metadata": {},
     "output_type": "execute_result"
    }
   ],
   "source": [
    "movie_info_1920 = jw_movies(1920) # Almacenando en variable\n",
    "movie_info_1920.head()"
   ]
  },
  {
   "cell_type": "code",
   "execution_count": 13,
   "id": "2abe2df2-d565-4a7a-9807-5efb97062d1f",
   "metadata": {},
   "outputs": [
    {
     "name": "stdout",
     "output_type": "stream",
     "text": [
      "Starting movie list (1921) scraping...\n",
      "Movies found: 6\n"
     ]
    },
    {
     "name": "stderr",
     "output_type": "stream",
     "text": [
      "Extracting movie info:: 100%|██████████| 6/6 [00:07<00:00,  1.25s/it]"
     ]
    },
    {
     "name": "stdout",
     "output_type": "stream",
     "text": [
      "Información extraída en \"1921.csv\"\n"
     ]
    },
    {
     "name": "stderr",
     "output_type": "stream",
     "text": [
      "\n"
     ]
    },
    {
     "data": {
      "text/html": [
       "<div>\n",
       "<style scoped>\n",
       "    .dataframe tbody tr th:only-of-type {\n",
       "        vertical-align: middle;\n",
       "    }\n",
       "\n",
       "    .dataframe tbody tr th {\n",
       "        vertical-align: top;\n",
       "    }\n",
       "\n",
       "    .dataframe thead th {\n",
       "        text-align: right;\n",
       "    }\n",
       "</style>\n",
       "<table border=\"1\" class=\"dataframe\">\n",
       "  <thead>\n",
       "    <tr style=\"text-align: right;\">\n",
       "      <th></th>\n",
       "      <th>title</th>\n",
       "      <th>year</th>\n",
       "      <th>platforms</th>\n",
       "      <th>jw_score</th>\n",
       "      <th>jw_ratings</th>\n",
       "      <th>imdb_score</th>\n",
       "      <th>imdb_ratings</th>\n",
       "      <th>rt_score</th>\n",
       "      <th>genres</th>\n",
       "      <th>duration</th>\n",
       "      <th>ageRating</th>\n",
       "      <th>countries</th>\n",
       "      <th>poster_image</th>\n",
       "    </tr>\n",
       "  </thead>\n",
       "  <tbody>\n",
       "    <tr>\n",
       "      <th>0</th>\n",
       "      <td>La muerte cansada</td>\n",
       "      <td>(1921)</td>\n",
       "      <td>[Filmin]</td>\n",
       "      <td>55%</td>\n",
       "      <td>(59)</td>\n",
       "      <td>7.6</td>\n",
       "      <td>(7k)</td>\n",
       "      <td>NA</td>\n",
       "      <td>Fantasía, Drama, Misterio &amp; Suspense, Terror, ...</td>\n",
       "      <td>1h 38min</td>\n",
       "      <td>NA</td>\n",
       "      <td>Alemania</td>\n",
       "      <td>[[[35, 35, 35], [34, 34, 34], [34, 34, 34], [3...</td>\n",
       "    </tr>\n",
       "    <tr>\n",
       "      <th>1</th>\n",
       "      <td>La carreta fantasma</td>\n",
       "      <td>(1921)</td>\n",
       "      <td>[Filmin, Acontra Plus]</td>\n",
       "      <td>58%</td>\n",
       "      <td>(187)</td>\n",
       "      <td>8.0</td>\n",
       "      <td>(14k)</td>\n",
       "      <td>100%</td>\n",
       "      <td>Drama, Terror, Europeas, Fantasía</td>\n",
       "      <td>1h 46min</td>\n",
       "      <td>NA</td>\n",
       "      <td>Suecia</td>\n",
       "      <td>[[[4, 8, 17], [13, 10, 0], [107, 98, 67], [163...</td>\n",
       "    </tr>\n",
       "    <tr>\n",
       "      <th>2</th>\n",
       "      <td>Los cuatro jinetes del Apocalipsis</td>\n",
       "      <td>(1921)</td>\n",
       "      <td>[Filmin]</td>\n",
       "      <td>48%</td>\n",
       "      <td>(36)</td>\n",
       "      <td>7.1</td>\n",
       "      <td>(3k)</td>\n",
       "      <td>80%</td>\n",
       "      <td>Guerra, Romance, Drama</td>\n",
       "      <td>2h 36min</td>\n",
       "      <td>NA</td>\n",
       "      <td>Estados Unidos</td>\n",
       "      <td>[[[22, 41, 55], [20, 36, 51], [25, 35, 47], [5...</td>\n",
       "    </tr>\n",
       "    <tr>\n",
       "      <th>3</th>\n",
       "      <td>El Chico</td>\n",
       "      <td>(1921)</td>\n",
       "      <td>[Amazon Prime Video, Filmin, Acontra Plus]</td>\n",
       "      <td>90%</td>\n",
       "      <td>(1.5k)</td>\n",
       "      <td>8.2</td>\n",
       "      <td>(140k)</td>\n",
       "      <td>100%</td>\n",
       "      <td>Comedia, Drama, Familia</td>\n",
       "      <td>1h 8min</td>\n",
       "      <td>NA</td>\n",
       "      <td>Estados Unidos</td>\n",
       "      <td>[[[249, 255, 253], [239, 228, 210], [241, 208,...</td>\n",
       "    </tr>\n",
       "    <tr>\n",
       "      <th>4</th>\n",
       "      <td>La dama de las camelias</td>\n",
       "      <td>(1921)</td>\n",
       "      <td>[Filmin]</td>\n",
       "      <td>NA</td>\n",
       "      <td>NA</td>\n",
       "      <td>6.5</td>\n",
       "      <td>(1k)</td>\n",
       "      <td>NA</td>\n",
       "      <td>Romance, Drama</td>\n",
       "      <td>1h 10min</td>\n",
       "      <td>NA</td>\n",
       "      <td>Estados Unidos</td>\n",
       "      <td>[[[128, 128, 128], [128, 128, 128], [128, 128,...</td>\n",
       "    </tr>\n",
       "    <tr>\n",
       "      <th>5</th>\n",
       "      <td>El castillo Vogeloed</td>\n",
       "      <td>(1921)</td>\n",
       "      <td>[Filmin]</td>\n",
       "      <td>NA</td>\n",
       "      <td>NA</td>\n",
       "      <td>6.1</td>\n",
       "      <td>(2k)</td>\n",
       "      <td>NA</td>\n",
       "      <td>Misterio &amp; Suspense, Crimen, Terror, Drama</td>\n",
       "      <td>1h 21min</td>\n",
       "      <td>NA</td>\n",
       "      <td>Alemania</td>\n",
       "      <td>[[[17, 14, 21], [17, 14, 21], [17, 14, 21], [1...</td>\n",
       "    </tr>\n",
       "  </tbody>\n",
       "</table>\n",
       "</div>"
      ],
      "text/plain": [
       "                                title    year  \\\n",
       "0                   La muerte cansada  (1921)   \n",
       "1                 La carreta fantasma  (1921)   \n",
       "2  Los cuatro jinetes del Apocalipsis  (1921)   \n",
       "3                            El Chico  (1921)   \n",
       "4             La dama de las camelias  (1921)   \n",
       "5                El castillo Vogeloed  (1921)   \n",
       "\n",
       "                                    platforms jw_score jw_ratings imdb_score  \\\n",
       "0                                    [Filmin]      55%       (59)        7.6   \n",
       "1                      [Filmin, Acontra Plus]      58%      (187)        8.0   \n",
       "2                                    [Filmin]      48%       (36)        7.1   \n",
       "3  [Amazon Prime Video, Filmin, Acontra Plus]      90%     (1.5k)        8.2   \n",
       "4                                    [Filmin]       NA         NA        6.5   \n",
       "5                                    [Filmin]       NA         NA        6.1   \n",
       "\n",
       "  imdb_ratings rt_score                                             genres  \\\n",
       "0         (7k)       NA  Fantasía, Drama, Misterio & Suspense, Terror, ...   \n",
       "1        (14k)     100%                  Drama, Terror, Europeas, Fantasía   \n",
       "2         (3k)      80%                             Guerra, Romance, Drama   \n",
       "3       (140k)     100%                            Comedia, Drama, Familia   \n",
       "4         (1k)       NA                                     Romance, Drama   \n",
       "5         (2k)       NA         Misterio & Suspense, Crimen, Terror, Drama   \n",
       "\n",
       "   duration ageRating       countries  \\\n",
       "0  1h 38min        NA        Alemania   \n",
       "1  1h 46min        NA          Suecia   \n",
       "2  2h 36min        NA  Estados Unidos   \n",
       "3   1h 8min        NA  Estados Unidos   \n",
       "4  1h 10min        NA  Estados Unidos   \n",
       "5  1h 21min        NA        Alemania   \n",
       "\n",
       "                                        poster_image  \n",
       "0  [[[35, 35, 35], [34, 34, 34], [34, 34, 34], [3...  \n",
       "1  [[[4, 8, 17], [13, 10, 0], [107, 98, 67], [163...  \n",
       "2  [[[22, 41, 55], [20, 36, 51], [25, 35, 47], [5...  \n",
       "3  [[[249, 255, 253], [239, 228, 210], [241, 208,...  \n",
       "4  [[[128, 128, 128], [128, 128, 128], [128, 128,...  \n",
       "5  [[[17, 14, 21], [17, 14, 21], [17, 14, 21], [1...  "
      ]
     },
     "execution_count": 13,
     "metadata": {},
     "output_type": "execute_result"
    }
   ],
   "source": [
    "jw_movies(1921) # Sin almacenar en variable"
   ]
  },
  {
   "cell_type": "markdown",
   "id": "cf1ab40b-7e6b-481c-9f37-69fd1c377447",
   "metadata": {},
   "source": [
    "Si se desea obtener toda la información de todas las películas contenidas en los catalógos disponibles en España de las principales plataformas de Streaming se podría ejecutar el siguiente código, pero se desaconseja por dos motivos. En primer lugar tendrá un tiempo de ejecución de varias horas y, en segundo lugar, puede llegar a sobrecargar el servidor (pese que se contempla una pausa más o menos larga entre año y año)."
   ]
  },
  {
   "cell_type": "code",
   "execution_count": 15,
   "id": "9d9727d8-99d2-4478-aae2-cbd5d5357fc0",
   "metadata": {},
   "outputs": [],
   "source": [
    "# import time\n",
    "#\n",
    "# for year in range(1913, 2026):\n",
    "#     jw_movies(year)\n",
    "#     time.sleep(300)"
   ]
  },
  {
   "cell_type": "markdown",
   "id": "ae102a9b-3548-4d17-8aed-ccb8d813a57e",
   "metadata": {},
   "source": [
    "Por último, para obtener un único archivo con todos los años juntos se puede ejecutar el siguiente código. Para obtener todos los años, se ha ido ejecutando, espaciadamente en el tiempo, el código anterior, limitando el rango de años."
   ]
  },
  {
   "cell_type": "code",
   "execution_count": null,
   "id": "39d0fd21-17a0-431e-9e52-4054a27a0637",
   "metadata": {},
   "outputs": [],
   "source": [
    "years = range(1913, 2026)\n",
    "jw_movies_spain = pd.concat([pd.read_csv(f\"{year}.csv\", sep=\";\") for year in years], ignore_index=True)\n",
    "jw_movies_spain.to_csv(\"jw_movies_spain.csv\", sep=\";\")\n",
    "\n",
    "jw_movies_spain.shape"
   ]
  }
 ],
 "metadata": {
  "kernelspec": {
   "display_name": "Python 3 (ipykernel)",
   "language": "python",
   "name": "python3"
  },
  "language_info": {
   "codemirror_mode": {
    "name": "ipython",
    "version": 3
   },
   "file_extension": ".py",
   "mimetype": "text/x-python",
   "name": "python",
   "nbconvert_exporter": "python",
   "pygments_lexer": "ipython3",
   "version": "3.9.13"
  }
 },
 "nbformat": 4,
 "nbformat_minor": 5
}
